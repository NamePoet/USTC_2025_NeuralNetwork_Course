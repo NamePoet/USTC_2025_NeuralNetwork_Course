{
 "cells": [
  {
   "cell_type": "markdown",
   "id": "592cf8cab6200a82",
   "metadata": {},
   "source": [
    "# 黑盒攻击算法实现：Surrogate Network 对 CIFAR-10 数据集实现分类"
   ]
  },
  {
   "cell_type": "markdown",
   "id": "d31d192b8037f11e",
   "metadata": {},
   "source": [
    "### Step1 导入依赖，设置运行模式，并加载 CIFAR-10 数据集"
   ]
  },
  {
   "cell_type": "code",
   "execution_count": 1,
   "id": "initial_id",
   "metadata": {},
   "outputs": [],
   "source": [
    "# 导入 PyTorch 相关模块和数据加载工具\n",
    "import torch\n",
    "import torch.nn as nn\n",
    "import torch.nn.functional as F\n",
    "from torchvision import datasets, transforms\n",
    "from torch.utils.data import DataLoader\n",
    "\n",
    "# 导入 advertorch 中的 GenAttack 攻击方法\n",
    "from advertorch.attacks.blackbox.gen_attack import LinfGenAttack\n",
    "\n",
    "# tqdm 用于添加训练进度条\n",
    "from tqdm import tqdm\n",
    "\n",
    "\n",
    "# 设置计算设备，这里强制使用 CPU，避免与 GPU 环境冲突\n",
    "device = torch.device(\"cpu\")\n",
    "\n",
    "\n",
    "# 定义图像预处理方式\n",
    "transform = transforms.Compose([\n",
    "    transforms.ToTensor()\n",
    "])\n",
    "\n",
    "# 下载并加载训练集和测试集\n",
    "train_dataset = datasets.CIFAR10(root='./data', train=True, download=True, transform=transform)\n",
    "test_dataset = datasets.CIFAR10(root='./data', train=False, download=True, transform=transform)\n",
    "\n",
    "# 构建 DataLoader，用于批量读取数据\n",
    "train_loader = DataLoader(train_dataset, batch_size=64, shuffle=True)\n",
    "test_loader = DataLoader(test_dataset, batch_size=64, shuffle=False)\n"
   ]
  },
  {
   "cell_type": "markdown",
   "id": "f89e70bdafd61f70",
   "metadata": {},
   "source": [
    "### Step2 定义目标模型（Target Model）"
   ]
  },
  {
   "cell_type": "code",
   "execution_count": 2,
   "id": "e7e5c5d3-0a1c-429c-8a34-3af6e02007b5",
   "metadata": {},
   "outputs": [],
   "source": [
    "# 定义目标模型，用于被攻击\n",
    "class TargetModel(nn.Module):\n",
    "    def __init__(self):\n",
    "        super().__init__()\n",
    "        self.conv = nn.Sequential(\n",
    "            nn.Conv2d(3, 32, kernel_size=3, padding=1), nn.ReLU(),\n",
    "            nn.Conv2d(32, 64, kernel_size=3, padding=1), nn.ReLU(),\n",
    "            nn.MaxPool2d(2),\n",
    "            nn.Dropout(0.25),\n",
    "            nn.Flatten(),\n",
    "            nn.Linear(64*16*16, 128), nn.ReLU(),\n",
    "            nn.Linear(128, 10)\n",
    "        )\n",
    "\n",
    "    def forward(self, x):\n",
    "        return F.softmax(self.conv(x), dim=1)\n"
   ]
  },
  {
   "cell_type": "markdown",
   "id": "9d103e6423db2572",
   "metadata": {},
   "source": [
    "**说明：**<br>\n",
    "· 定义目标模型（用于被攻击），使用了两层卷积层 + 一层池化层 + 两层全连接层，最后用 Softmax 函数输出每类概率。"
   ]
  },
  {
   "cell_type": "markdown",
   "id": "80d19bc0dd716126",
   "metadata": {},
   "source": [
    "### Step3 定义代理模型（Surrogate Model）"
   ]
  },
  {
   "cell_type": "code",
   "execution_count": 3,
   "id": "07f36b0b-4a5b-41fd-bcb3-454fdeb67043",
   "metadata": {},
   "outputs": [],
   "source": [
    "# 定义代理模型，用于模仿目标模型并发起黑盒攻击\n",
    "class SurrogateModel(nn.Module):\n",
    "    def __init__(self):\n",
    "        super().__init__()\n",
    "        self.conv = nn.Sequential(\n",
    "            nn.Conv2d(3, 32, kernel_size=3, padding=1), nn.ReLU(),\n",
    "            nn.MaxPool2d(2),\n",
    "            nn.Dropout(0.25),\n",
    "            nn.Flatten(),\n",
    "            nn.Linear(32*16*16, 64), nn.ReLU(),\n",
    "            nn.Linear(64, 10)\n",
    "        )\n",
    "\n",
    "    def forward(self, x):\n",
    "        return F.softmax(self.conv(x), dim=1)\n"
   ]
  },
  {
   "cell_type": "markdown",
   "id": "c129d8188045b81d",
   "metadata": {},
   "source": [
    "**说明：**<br>\n",
    "· 定义代理模型，目的是模仿目标模型的输出，从而执行黑盒攻击。"
   ]
  },
  {
   "cell_type": "markdown",
   "id": "e72fcfee9a20f39f",
   "metadata": {},
   "source": [
    "### Step4 初始化模型并对目标模型进行训练"
   ]
  },
  {
   "cell_type": "code",
   "execution_count": 4,
   "id": "62a78e09-45a3-4b67-9288-ac1c3e633689",
   "metadata": {},
   "outputs": [
    {
     "name": "stdout",
     "output_type": "stream",
     "text": [
      "开始训练目标模型...\n"
     ]
    },
    {
     "name": "stderr",
     "output_type": "stream",
     "text": [
      "                                                                                                                                                                             "
     ]
    },
    {
     "data": {
      "text/plain": [
       "TargetModel(\n",
       "  (conv): Sequential(\n",
       "    (0): Conv2d(3, 32, kernel_size=(3, 3), stride=(1, 1), padding=(1, 1))\n",
       "    (1): ReLU()\n",
       "    (2): Conv2d(32, 64, kernel_size=(3, 3), stride=(1, 1), padding=(1, 1))\n",
       "    (3): ReLU()\n",
       "    (4): MaxPool2d(kernel_size=2, stride=2, padding=0, dilation=1, ceil_mode=False)\n",
       "    (5): Dropout(p=0.25, inplace=False)\n",
       "    (6): Flatten(start_dim=1, end_dim=-1)\n",
       "    (7): Linear(in_features=16384, out_features=128, bias=True)\n",
       "    (8): ReLU()\n",
       "    (9): Linear(in_features=128, out_features=10, bias=True)\n",
       "  )\n",
       ")"
      ]
     },
     "execution_count": 4,
     "metadata": {},
     "output_type": "execute_result"
    }
   ],
   "source": [
    "# 实例化模型并放置在 CPU 上\n",
    "target_model = TargetModel().to(device)\n",
    "surrogate_model = SurrogateModel().to(device)\n",
    "\n",
    "# 定义训练函数\n",
    "def train(model, loader, epochs=5, name=\"Model\"):\n",
    "    model.train()\n",
    "    optimizer = torch.optim.Adam(model.parameters(), lr=1e-3)\n",
    "    for epoch in range(epochs):\n",
    "        loop = tqdm(loader, desc=f\"[{name}] Epoch {epoch+1}/{epochs}\", leave=False)\n",
    "        for x_batch, y_batch in loop:\n",
    "            x_batch, y_batch = x_batch.to(device), y_batch.to(device)\n",
    "            logits = model(x_batch)\n",
    "            loss = F.cross_entropy(logits, y_batch)   # 交叉熵损失计算\n",
    "            optimizer.zero_grad()   # 梯度置为 0\n",
    "            loss.backward()   # 损失反向传播\n",
    "            optimizer.step()  # 优化器迭代\n",
    "            loop.set_postfix(loss=loss.item())  # tqdm库 实时显示训练过程\n",
    "\n",
    "# 开始训练目标模型\n",
    "print(\"开始训练目标模型...\")\n",
    "train(target_model, train_loader, epochs=5, name=\"Target\")\n",
    "target_model.eval()\n"
   ]
  },
  {
   "cell_type": "markdown",
   "id": "f9a2f2804f6edeab",
   "metadata": {},
   "source": [
    "**说明：**<br>\n",
    "· 对目标模型训练，进行交叉熵损失计算，设置训练轮次为 5 轮，训练结束后，用 .eval() 切换到推理模式。"
   ]
  },
  {
   "cell_type": "markdown",
   "id": "b17a18ea91b340be",
   "metadata": {},
   "source": [
    "### Step5 训练代理模型（知识蒸馏）"
   ]
  },
  {
   "cell_type": "code",
   "execution_count": 5,
   "id": "4c22d0fb-4faf-4517-a987-9efaf9ac0442",
   "metadata": {},
   "outputs": [
    {
     "name": "stdout",
     "output_type": "stream",
     "text": [
      "开始训练代理模型（模仿目标模型输出）...\n"
     ]
    },
    {
     "name": "stderr",
     "output_type": "stream",
     "text": [
      "Surrogate KD: 100%|███████████████████████████████████████████████████████████████████████████████████████████████████████████| 200/200 [00:09<00:00, 20.80it/s, loss=0.0538]\n"
     ]
    },
    {
     "data": {
      "text/plain": [
       "SurrogateModel(\n",
       "  (conv): Sequential(\n",
       "    (0): Conv2d(3, 32, kernel_size=(3, 3), stride=(1, 1), padding=(1, 1))\n",
       "    (1): ReLU()\n",
       "    (2): MaxPool2d(kernel_size=2, stride=2, padding=0, dilation=1, ceil_mode=False)\n",
       "    (3): Dropout(p=0.25, inplace=False)\n",
       "    (4): Flatten(start_dim=1, end_dim=-1)\n",
       "    (5): Linear(in_features=8192, out_features=64, bias=True)\n",
       "    (6): ReLU()\n",
       "    (7): Linear(in_features=64, out_features=10, bias=True)\n",
       "  )\n",
       ")"
      ]
     },
     "execution_count": 5,
     "metadata": {},
     "output_type": "execute_result"
    }
   ],
   "source": [
    "# 使用目标模型的 soft label 训练代理模型\n",
    "print(\"开始训练代理模型（模仿目标模型输出）...\")\n",
    "optimizer = torch.optim.Adam(surrogate_model.parameters(), lr=1e-3)\n",
    "surrogate_model.train()\n",
    "\n",
    "loop = tqdm(enumerate(train_loader), total=200, desc=\"Surrogate KD\")\n",
    "for i, (x_batch, _) in loop:\n",
    "    if i >= 200:\n",
    "        break\n",
    "    x_batch = x_batch.to(device)\n",
    "    with torch.no_grad():\n",
    "        soft_labels = target_model(x_batch)\n",
    "    preds = surrogate_model(x_batch)\n",
    "    loss = F.mse_loss(preds, soft_labels)   # 均方误差损失计算\n",
    "    optimizer.zero_grad()\n",
    "    loss.backward()\n",
    "    optimizer.step()\n",
    "    loop.set_postfix(loss=loss.item())\n",
    "\n",
    "surrogate_model.eval()\n"
   ]
  },
  {
   "cell_type": "markdown",
   "id": "9175c28a2eb64c16",
   "metadata": {},
   "source": [
    "**说明：**<br>\n",
    "· 通过知识蒸馏，使代理模型学习目标模型的输出分布（软标签）。<br>\n",
    "· 设置训练前 200 个 batch，加快实验速度。"
   ]
  },
  {
   "cell_type": "markdown",
   "id": "f8eae00008e135f9",
   "metadata": {},
   "source": [
    "### Step6 发起 GenAttack 黑盒攻击"
   ]
  },
  {
   "cell_type": "code",
   "execution_count": 6,
   "id": "3e9ca219-21d1-4f07-ab31-ae43127a315c",
   "metadata": {},
   "outputs": [
    {
     "name": "stdout",
     "output_type": "stream",
     "text": [
      "执行黑盒攻击（GenAttack）...\n"
     ]
    }
   ],
   "source": [
    "# 从测试集中获取一批图像\n",
    "print(\"执行黑盒攻击（GenAttack）...\")\n",
    "x_test, y_test = next(iter(test_loader))\n",
    "x_test = x_test.to(device)\n",
    "y_test = y_test.to(device)\n",
    "\n",
    "# 使用代理模型对目标模型执行黑盒攻击\n",
    "attack = LinfGenAttack(\n",
    "    predict=surrogate_model,\n",
    "    eps=0.3,\n",
    "    nb_samples=100,\n",
    "    nb_iter=20,\n",
    "    clip_min=0.0,\n",
    "    clip_max=1.0,\n",
    "    targeted=False\n",
    ")\n",
    "\n",
    "# 生成对抗样本\n",
    "x_adv = attack.perturb(x_test, y_test)\n"
   ]
  },
  {
   "cell_type": "markdown",
   "id": "20300bf3f814a12e",
   "metadata": {},
   "source": [
    "**说明：**<br>\n",
    "· LinfGenAttack 来源于 Github 上的 advertorch 库，属于黑盒攻击算法，不依赖于目标模型的梯度。<br>\n",
    "· 此步骤通过代理模型对目标模型进行扰动攻击。"
   ]
  },
  {
   "cell_type": "markdown",
   "id": "a07153086f5a5d66",
   "metadata": {},
   "source": [
    "### Step7 在目标模型上评估攻击效果"
   ]
  },
  {
   "cell_type": "code",
   "execution_count": 7,
   "id": "15cf755b-65b2-4614-b2ed-b24587d3954b",
   "metadata": {},
   "outputs": [
    {
     "name": "stdout",
     "output_type": "stream",
     "text": [
      "评估攻击效果...\n",
      "原始样本准确率: 65.62%\n",
      "对抗样本准确率: 32.81%\n",
      "攻击成功率: 56.25%\n"
     ]
    }
   ],
   "source": [
    "# 在目标模型上评估攻击效果\n",
    "print(\"评估攻击效果...\")\n",
    "with torch.no_grad():\n",
    "    y_pred_clean = target_model(x_test).argmax(dim=1)\n",
    "    y_pred_adv = target_model(x_adv).argmax(dim=1)\n",
    "\n",
    "# 计算准确率和攻击成功率\n",
    "acc_clean = (y_pred_clean == y_test).float().mean().item()\n",
    "acc_adv = (y_pred_adv == y_test).float().mean().item()\n",
    "attack_success_rate = (y_pred_clean != y_pred_adv).float().mean().item()\n",
    "\n",
    "# 打印评估结果\n",
    "print(\"原始样本准确率: {:.2%}\".format(acc_clean))\n",
    "print(\"对抗样本准确率: {:.2%}\".format(acc_adv))\n",
    "print(\"攻击成功率: {:.2%}\".format(attack_success_rate))\n"
   ]
  },
  {
   "cell_type": "markdown",
   "id": "7d010483723b7d70",
   "metadata": {},
   "source": [
    "**说明：**<br>\n",
    "· 原始样本准确率：目标模型对正常图像的分类准确率。<br>\n",
    "· 对抗样本准确率：目标模型在被攻击后的样本上的准确率。<br>\n",
    "· 攻击成功率：成功使模型预测改变的样本比例。"
   ]
  }
 ],
 "metadata": {
  "kernelspec": {
   "display_name": "Python 3 (ipykernel)",
   "language": "python",
   "name": "python3"
  },
  "language_info": {
   "codemirror_mode": {
    "name": "ipython",
    "version": 3
   },
   "file_extension": ".py",
   "mimetype": "text/x-python",
   "name": "python",
   "nbconvert_exporter": "python",
   "pygments_lexer": "ipython3",
   "version": "3.12.9"
  }
 },
 "nbformat": 4,
 "nbformat_minor": 5
}
